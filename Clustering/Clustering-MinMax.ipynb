{
 "cells": [
  {
   "cell_type": "markdown",
   "metadata": {},
   "source": [
    "<img align=\"right\" width=\"250\" src=\"http://www.sobigdata.eu/sites/default/files/logo-SoBigData-DEFINITIVO.png\">\n",
    "**Author:** [Riccardo Guidotti](http://kdd.isti.cnr.it/people/riccardo-guidotti)  \n",
    "**Python version:**  3.x"
   ]
  },
  {
   "cell_type": "markdown",
   "metadata": {},
   "source": [
    "<img align=\"right\" width=\"250\" src=\"https://upload.wikimedia.org/wikipedia/commons/thumb/c/c8/Cluster-2.svg/601px-Cluster-2.svg.png\">\n",
    "\n",
    "# Clustering with Python\n",
    "\n",
    "This notebook contains an overview of basic python functionalities for clustering using the [sklearn](http://scikit-learn.org/stable/) library.  \n",
    "Note: this notebook is purposely not 100% comprehensive, it only discusses the basic things you need to get started."
   ]
  },
  {
   "cell_type": "markdown",
   "metadata": {},
   "source": [
    "Import of the basic packages to use"
   ]
  },
  {
   "cell_type": "code",
   "execution_count": 1,
   "metadata": {},
   "outputs": [],
   "source": [
    "#Configurazione 3\n",
    "%matplotlib inline   \n",
    "import math\n",
    "import numpy as np\n",
    "import pandas as pd\n",
    "import scipy.stats as stats\n",
    "import matplotlib.pyplot as plt\n",
    "import datetime\n",
    "from sklearn.metrics import confusion_matrix\n",
    "from sklearn.metrics import accuracy_score, f1_score, classification_report\n",
    "from sklearn.metrics import roc_curve, auc, roc_auc_score\n",
    "from sklearn.tree import DecisionTreeClassifier\n",
    "from sklearn.model_selection import train_test_split\n",
    "from collections import defaultdict\n",
    "from scipy.stats.stats import pearsonr\n",
    "from sklearn.preprocessing import LabelEncoder\n",
    "import pydotplus\n",
    "from sklearn import tree\n",
    "from IPython.display import Image\n",
    "from sklearn.model_selection import train_test_split\n",
    "from sklearn.model_selection import GridSearchCV\n",
    "from sklearn.model_selection import RandomizedSearchCV\n",
    "#RIMPIAZZANDO I PREZZI\n",
    "df = pd.read_csv('training.csv') \n",
    "\n",
    "#REPLACE MISSING VALUES & OUTLIERS in un colpo solo...\n",
    "#Rimpiazzo gli 0 e 1 dei valori di MMR con np.nan e poi rimpiazzo con la media fatta rispetto a, dapprima Make, Model e SubModel\n",
    "#(di cui se ne trovano la maggior parte), poi Make e Model, e poi Make per i pochi rimasti\n",
    "df['MMRAcquisitionAuctionAveragePrice'] = df['MMRAcquisitionAuctionAveragePrice'].replace(0, np.nan)\n",
    "df['MMRAcquisitionAuctionAveragePrice'] = df['MMRAcquisitionAuctionAveragePrice'].replace(1, np.nan)\n",
    "\n",
    "df['MMRAcquisitionAuctionAveragePrice'] = df['MMRAcquisitionAuctionAveragePrice'].groupby([\n",
    "    df['Make'], df['Model'], df['SubModel']]).apply(lambda x: x.fillna(\n",
    "    x.mean()))\n",
    "#----------------------------------------------------------------------------------------------------------\n",
    "df['MMRAcquisitionAuctionCleanPrice'] = df['MMRAcquisitionAuctionCleanPrice'].replace(0, np.nan)\n",
    "df['MMRAcquisitionAuctionCleanPrice'] = df['MMRAcquisitionAuctionCleanPrice'].replace(1, np.nan)\n",
    "\n",
    "df['MMRAcquisitionAuctionCleanPrice'] = df['MMRAcquisitionAuctionCleanPrice'].groupby([\n",
    "    df['Make'], df['Model'], df['SubModel']]).apply(lambda x: x.fillna(\n",
    "    x.mean()))\n",
    "#----------------------------------------------------------------------------------------------------------\n",
    "df['MMRAcquisitionRetailAveragePrice'] = df['MMRAcquisitionRetailAveragePrice'].replace(0, np.nan)\n",
    "df['MMRAcquisitionRetailAveragePrice'] = df['MMRAcquisitionRetailAveragePrice'].replace(1, np.nan)\n",
    "\n",
    "df['MMRAcquisitionRetailAveragePrice'] = df['MMRAcquisitionRetailAveragePrice'].groupby([\n",
    "    df['Make'], df['Model'], df['SubModel']]).apply(lambda x: x.fillna(\n",
    "    x.mean()))\n",
    "#----------------------------------------------------------------------------------------------------------\n",
    "df['MMRAcquisitonRetailCleanPrice'] = df['MMRAcquisitonRetailCleanPrice'].replace(0, np.nan)\n",
    "df['MMRAcquisitonRetailCleanPrice'] = df['MMRAcquisitonRetailCleanPrice'].replace(1, np.nan)\n",
    "\n",
    "df['MMRAcquisitonRetailCleanPrice'] = df['MMRAcquisitonRetailCleanPrice'].groupby([\n",
    "    df['Make'], df['Model'], df['SubModel']]).apply(lambda x: x.fillna(\n",
    "    x.mean()))\n",
    "#----------------------------------------------------------------------------------------------------------\n",
    "df['MMRCurrentAuctionAveragePrice'] = df['MMRCurrentAuctionAveragePrice'].replace(0, np.nan)\n",
    "df['MMRCurrentAuctionAveragePrice'] = df['MMRCurrentAuctionAveragePrice'].replace(1, np.nan)\n",
    "\n",
    "df['MMRCurrentAuctionAveragePrice'] = df['MMRCurrentAuctionAveragePrice'].groupby([\n",
    "    df['Make'], df['Model'], df['SubModel']]).apply(lambda x: x.fillna(\n",
    "    x.mean()))\n",
    "#----------------------------------------------------------------------------------------------------------\n",
    "df['MMRCurrentAuctionCleanPrice'] = df['MMRCurrentAuctionCleanPrice'].replace(0, np.nan)\n",
    "df['MMRCurrentAuctionCleanPrice'] = df['MMRCurrentAuctionCleanPrice'].replace(1, np.nan)\n",
    "\n",
    "df['MMRCurrentAuctionCleanPrice'] = df['MMRCurrentAuctionCleanPrice'].groupby([\n",
    "    df['Make'], df['Model'], df['SubModel']]).apply(lambda x: x.fillna(\n",
    "    x.mean()))\n",
    "#----------------------------------------------------------------------------------------------------------\n",
    "df['MMRCurrentRetailAveragePrice'] = df['MMRCurrentRetailAveragePrice'].replace(0, np.nan)\n",
    "df['MMRCurrentRetailAveragePrice'] = df['MMRCurrentRetailAveragePrice'].replace(1, np.nan)\n",
    "\n",
    "df['MMRCurrentRetailAveragePrice'] = df['MMRCurrentRetailAveragePrice'].groupby([\n",
    "    df['Make'], df['Model'], df['SubModel']]).apply(lambda x: x.fillna(\n",
    "    x.mean()))\n",
    "#----------------------------------------------------------------------------------------------------------\n",
    "df['MMRCurrentRetailCleanPrice'] = df['MMRCurrentRetailCleanPrice'].replace(0, np.nan)\n",
    "df['MMRCurrentRetailCleanPrice'] = df['MMRCurrentRetailCleanPrice'].replace(1, np.nan)\n",
    "\n",
    "df['MMRCurrentRetailCleanPrice'] = df['MMRCurrentRetailCleanPrice'].groupby([\n",
    "    df['Make'], df['Model'], df['SubModel']]).apply(lambda x: x.fillna(\n",
    "    x.mean()))\n",
    "#----------------------------------------------------------------------------------------------------------\n",
    "\n",
    "df['MMRAcquisitionAuctionAveragePrice'] = df['MMRAcquisitionAuctionAveragePrice'].groupby([\n",
    "    df['Make'], df['Model']]).apply(lambda x: x.fillna(\n",
    "    x.mean()))\n",
    "\n",
    "df['MMRAcquisitionAuctionCleanPrice'] = df['MMRAcquisitionAuctionCleanPrice'].groupby([\n",
    "    df['Make'], df['Model']]).apply(lambda x: x.fillna(\n",
    "    x.mean()))\n",
    "\n",
    "df['MMRAcquisitionRetailAveragePrice'] = df['MMRAcquisitionRetailAveragePrice'].groupby([\n",
    "    df['Make'], df['Model']]).apply(lambda x: x.fillna(\n",
    "    x.mean()))\n",
    "\n",
    "df['MMRAcquisitonRetailCleanPrice'] = df['MMRAcquisitonRetailCleanPrice'].groupby([\n",
    "    df['Make'], df['Model']]).apply(lambda x: x.fillna(\n",
    "    x.mean()))\n",
    "\n",
    "df['MMRCurrentAuctionAveragePrice'] = df['MMRCurrentAuctionAveragePrice'].groupby([\n",
    "    df['Make'], df['Model']]).apply(lambda x: x.fillna(\n",
    "    x.mean()))\n",
    "\n",
    "df['MMRCurrentAuctionCleanPrice'] = df['MMRCurrentAuctionCleanPrice'].groupby([\n",
    "    df['Make'], df['Model']]).apply(lambda x: x.fillna(\n",
    "    x.mean()))\n",
    "\n",
    "df['MMRCurrentRetailCleanPrice'] = df['MMRCurrentRetailCleanPrice'].groupby([\n",
    "    df['Make'], df['Model']]).apply(lambda x: x.fillna(\n",
    "    x.mean()))\n",
    "\n",
    "df['MMRCurrentRetailAveragePrice'] = df['MMRCurrentRetailAveragePrice'].groupby(\n",
    "    df['Make']).apply(lambda x: x.fillna(\n",
    "    x.mean()))\n",
    "\n",
    "df['MMRAcquisitionAuctionAveragePrice'] = df['MMRAcquisitionAuctionAveragePrice'].groupby(\n",
    "    df['Make']).apply(lambda x: x.fillna(\n",
    "    x.mean()))\n",
    "\n",
    "df['MMRAcquisitionAuctionCleanPrice'] = df['MMRAcquisitionAuctionCleanPrice'].groupby(\n",
    "    df['Make']).apply(lambda x: x.fillna(\n",
    "    x.mean()))\n",
    "\n",
    "df['MMRAcquisitionRetailAveragePrice'] = df['MMRAcquisitionRetailAveragePrice'].groupby(\n",
    "    df['Make']).apply(lambda x: x.fillna(\n",
    "    x.mean()))\n",
    "\n",
    "df['MMRAcquisitonRetailCleanPrice'] = df['MMRAcquisitonRetailCleanPrice'].groupby(\n",
    "    df['Make']).apply(lambda x: x.fillna(\n",
    "    x.mean()))\n",
    "\n",
    "df['MMRCurrentAuctionAveragePrice'] = df['MMRCurrentAuctionAveragePrice'].groupby(\n",
    "    df['Make']).apply(lambda x: x.fillna(\n",
    "    x.mean()))\n",
    "\n",
    "df['MMRCurrentAuctionCleanPrice'] = df['MMRCurrentAuctionCleanPrice'].groupby(\n",
    "    df['Make']).apply(lambda x: x.fillna(\n",
    "    x.mean()))\n",
    "\n",
    "df['MMRCurrentRetailCleanPrice'] = df['MMRCurrentRetailCleanPrice'].groupby(\n",
    "    df['Make']).apply(lambda x: x.fillna(\n",
    "    x.mean()))\n",
    "\n",
    "#Sostituzione missing values colonna TopThreeAmericanName\n",
    "df.loc[15769,'TopThreeAmericanName']='GM' \n",
    "df.loc[18532,'TopThreeAmericanName']='CHRYSLER'\n",
    "df.loc[20016,'TopThreeAmericanName']='CHRYSLER'\n",
    "df.loc[35157,'TopThreeAmericanName']='CHRYSLER'\n",
    "\n",
    "#Rimpiazzo i valori nulli di Nationality con AMERICAN perche' i 4 che mancavano di TopThreeAmericanName erano tutti americani\n",
    "df['Nationality'] = df['Nationality'].fillna('AMERICAN')\n",
    "\n",
    "#IMPORTANTE: Siccome le righe con valori nulli di Color e SubModel sono gli stessi (e sono solo 7) li togliamo:\n",
    "df=df.dropna(subset=['SubModel', 'Color']) \n",
    "\n",
    "#Rimpiazzati i missing values di Transmission (con la moda fra le macchine dello stesso modello (e stesso Make))\n",
    "df['Transmission'] = df['Transmission'].groupby([\n",
    "    df['Make'], df['Model']]).apply(lambda x: x.fillna(\n",
    "    x.mode()[0])) #faccio la moda perche' sono 'Transimission' stringhe\n",
    "\n",
    "#Convertito la colonna Trim a stringa (c'erano dei valori interi che impedivano di calcolare la moda)\n",
    "df['Trim']=df['Trim'].astype(str) \n",
    "df['Trim'] = df['Trim'].replace('nan', np.nan)\n",
    "#Rimpiazzato i missing values della colonna Trim con la moda calcolata fra Veicoli con stesso Make, Model e SubModel (molto precisa)\n",
    "df['Trim'] = df.groupby(['Make','Model', 'SubModel']).Trim.apply(\n",
    "   lambda x: x.fillna(np.nan if x.isnull().all() else x.value_counts().index[0])\n",
    ")\n",
    "df['Trim'] = df.groupby(['Make','Model']).Trim.apply(\n",
    "   lambda x: x.fillna(np.nan if x.isnull().all() else x.value_counts().index[0])\n",
    ")\n",
    "df['Trim'] = df.groupby('Make').Trim.apply(\n",
    "    lambda x: x.fillna(np.nan if x.isnull().all() else x.value_counts().index[0])\n",
    ")\n",
    "\n",
    "#Rimpiazzato i missing values della colonna WheelType con la moda calcolata fra Veicoli con stesso Make Model (molto precisa)\n",
    "df['WheelType']=df['WheelType'].astype(str) \n",
    "df['WheelType'] = df['WheelType'].replace('nan', -5)\n",
    "#Rimpiazzato i missing values della colonna WheelType con la moda calcolata fra Veicoli con stesso Make, Model e SubModel (molto precisa)\n",
    "#df['WheelType'] = df.groupby(['Make','Model','SubModel']).WheelType.apply(\n",
    "  #  lambda x: x.fillna(np.nan if x.isnull().all() else x.value_counts().index[0])\n",
    "#)\n",
    "#df['WheelType'] = df.groupby(['Make','Size']).WheelType.apply(\n",
    " #   lambda x: x.fillna(np.nan if x.isnull().all() else x.value_counts().index[0])\n",
    "#)\n",
    "#df['WheelType'] = df.groupby('Make').WheelType.apply(\n",
    "#    lambda x: x.fillna(np.nan if x.isnull().all() else x.value_counts().index[0])\n",
    "#)\n",
    "\n",
    "\n",
    "#eliminiamo Primeunit e AUCGUART perche' mancano 55703 valori\n",
    "df = df.drop(['PRIMEUNIT', 'AUCGUART'], axis=1)\n",
    "\n",
    "#eliminiamo BYRNO, RefId, VNZIP1 e WheelTypeID perche' non forniscono informazione\n",
    "df = df.drop(['BYRNO', 'RefId','WheelTypeID'], axis=1)\n",
    "\n",
    "#Togliamo le righe che hanno Size o Trim np.nan (4 di Size e 1 di Trim)\n",
    "df=df.dropna(subset=['Size','Trim'])\n",
    "\n",
    "#Outlier: c'e' un valore di VehBCost uguale a 1. Lo trattiamo come un outlier sostituendolo con la media fatta raggruppando su Make e Model\n",
    "df['VehBCost'] = df['VehBCost'].replace(1, np.nan)\n",
    "df['VehBCost'] = df['VehBCost'].groupby([\n",
    "    df['Make'], df['Model']]).apply(lambda x: x.fillna(\n",
    "    x.mean()))\n",
    "\n",
    "df=df[df['VehicleAge']>0] #Tolgo una riga con VehicleAge=0 sennò non posso calcolare MilesPerYear\n",
    "#Aggiunta di una nuova colonna\n",
    "df['MilesPerYear'] = df['VehOdo'] / df['VehicleAge']\n",
    "\n",
    "\n",
    "\n",
    "\n",
    "#------------------------------------------------- KMeans ------------------------------------------------------------\n",
    "#1) eliminare i categorici con pochi valori per vedere se SSE si abbassa; eliminare IsOnlineSale, VehYear. fare KMeans con Z-score e salvare l'immagine\n",
    "\n",
    "#2) provare MiniMax e salvare l'immagine\n",
    "\n",
    "#3) scegliere un k e una normalizzazione (cio' che minimizza SSE) e concentrarsi su quelli.\n",
    "\n",
    "#4) eseguire  (rivedere il codice...)\n",
    "#kmeans = KMeans(n_clusters=__ktrovato__, n_init=10, max_iter=300)\n",
    "#kmeans.fit(X)\n",
    "#kmeans.labels_[:5]\n",
    "#np.unique(kmeans.labels_, return_counts=True)\n",
    "#hist, bins = np.histogram(kmeans.labels_, \n",
    "#                          bins=range(0, len(set(kmeans.labels_)) + 1))\n",
    "#dict(zip(bins, hist))\n",
    "\n",
    "#5) stampare SSE e Silhouette_Score\n",
    "\n",
    "#6) stampare tutti i grafici per tutte le coppie \n",
    "#for column1 in df:\n",
    "#    for column2 in range(column1 + 1, len(df)): \n",
    "#        plt.scatter(df['sepal length'], df['petal width'], \n",
    "#                    c=kmeans.labels_, s=20)\n",
    "#        plt.tick_params(axis='both', which='major', labelsize=22)\n",
    "#        plt.show()\n",
    "\n",
    "#--------------------------------------------------DBSCAN ------------------------------------------------------\n",
    "#1) togliere i categorici e quelli tolti in KMeans\n",
    "#2) provare min_sample da 5 a 100 a passi di 5 e salvare il grafico.\n",
    "#3) a mano ricavare il best eps dal grafico (non si puo' automatizzare)\n",
    "#4) stampare silhouette_coeff per ogni risultato\n",
    "#5) trovare best silhouette_coeff e tenere la coppia (eps, min_sample) con il migliore silhouette_coeff\n",
    "#6) trovato la best coppia (eps, min_sample) fare i cluster di tutte le coppie\n",
    "\n",
    "#-------------------------------------------------- Hierarcical -------------------------------------------------\n",
    "\n",
    "#1)studiare"
   ]
  },
  {
   "cell_type": "code",
   "execution_count": 2,
   "metadata": {},
   "outputs": [],
   "source": [
    "df['DiffAcquisition_CurrentRetailAveragePrice']=df['MMRAcquisitionRetailAveragePrice']-df['MMRCurrentRetailAveragePrice']\n",
    "df['VehBCost_f_VehicleAge'] = df['VehBCost']/ df['VehicleAge']\n",
    "df['DiffAcquisition_CurrentAuctionAveragePrice']=df['MMRAcquisitionAuctionAveragePrice']-df['MMRCurrentAuctionAveragePrice']\n",
    "df['DiffAcquisition_CurrentAuctionCleanPrice']=df['MMRAcquisitionAuctionCleanPrice']-df['MMRCurrentAuctionCleanPrice']"
   ]
  },
  {
   "cell_type": "code",
   "execution_count": 3,
   "metadata": {},
   "outputs": [],
   "source": [
    "#------------------------------------------- CLUSTERING -------------------------------------------------------------\n",
    "\n",
    "#eliminazione classe da predire\n",
    "classes = df['IsBadBuy'] \n",
    "del df['IsBadBuy']\n",
    "\n",
    "#sostituzione attributi non numerici con attributi numerici, e cancellazione delle colonne non utili per il cluster\n",
    "del df['PurchDate']\n",
    "del df['SubModel'] #son troppi\n",
    "del df['Model']\n",
    "del df['Nationality']\n",
    "del df['TopThreeAmericanName']\n",
    "del df['VNST']\n",
    "del df['Color']\n",
    "del df['Trim']\n",
    "del df['Auction'] #son troppi\n",
    "del df['Make']\n",
    "del df['Size']\n",
    "del df['Transmission']\n",
    " #del df['WheelType']\n",
    "del df['IsOnlineSale']\n",
    "del df['VehYear']\n",
    "del df['MilesPerYear']\n",
    "del df['MMRAcquisitionAuctionAveragePrice'] \n",
    "del df['MMRAcquisitionAuctionCleanPrice'] \n",
    "del df['MMRAcquisitionRetailAveragePrice']\n",
    "del df['MMRAcquisitonRetailCleanPrice']\n",
    "del df['MMRCurrentAuctionAveragePrice']\n",
    "del df['MMRCurrentAuctionCleanPrice']\n",
    "del df['MMRCurrentRetailAveragePrice']\n",
    "del df['MMRCurrentRetailCleanPrice']\n",
    "del df['VehicleAge']\n",
    "del df['VehBCost']\n",
    "del df['WarrantyCost']\n",
    "del df['VNZIP1']"
   ]
  },
  {
   "cell_type": "code",
   "execution_count": 4,
   "metadata": {},
   "outputs": [],
   "source": [
    "df.loc[df['WheelType']==\"Alloy\", 'WheelType']= 1\n",
    "df.loc[df['WheelType']==\"Covers\", 'WheelType']= 2\n",
    "df.loc[df['WheelType']==\"Special\", 'WheelType']= 3"
   ]
  },
  {
   "cell_type": "code",
   "execution_count": 5,
   "metadata": {},
   "outputs": [
    {
     "data": {
      "text/html": [
       "<div>\n",
       "<style scoped>\n",
       "    .dataframe tbody tr th:only-of-type {\n",
       "        vertical-align: middle;\n",
       "    }\n",
       "\n",
       "    .dataframe tbody tr th {\n",
       "        vertical-align: top;\n",
       "    }\n",
       "\n",
       "    .dataframe thead th {\n",
       "        text-align: right;\n",
       "    }\n",
       "</style>\n",
       "<table border=\"1\" class=\"dataframe\">\n",
       "  <thead>\n",
       "    <tr style=\"text-align: right;\">\n",
       "      <th></th>\n",
       "      <th>WheelType</th>\n",
       "      <th>VehOdo</th>\n",
       "      <th>DiffAcquisition_CurrentRetailAveragePrice</th>\n",
       "      <th>VehBCost_f_VehicleAge</th>\n",
       "      <th>DiffAcquisition_CurrentAuctionAveragePrice</th>\n",
       "      <th>DiffAcquisition_CurrentAuctionCleanPrice</th>\n",
       "    </tr>\n",
       "  </thead>\n",
       "  <tbody>\n",
       "    <tr>\n",
       "      <th>0</th>\n",
       "      <td>2</td>\n",
       "      <td>61184</td>\n",
       "      <td>535.0</td>\n",
       "      <td>3050.000000</td>\n",
       "      <td>168.0</td>\n",
       "      <td>20.0</td>\n",
       "    </tr>\n",
       "    <tr>\n",
       "      <th>1</th>\n",
       "      <td>2</td>\n",
       "      <td>92383</td>\n",
       "      <td>0.0</td>\n",
       "      <td>1333.333333</td>\n",
       "      <td>0.0</td>\n",
       "      <td>0.0</td>\n",
       "    </tr>\n",
       "    <tr>\n",
       "      <th>2</th>\n",
       "      <td>2</td>\n",
       "      <td>45965</td>\n",
       "      <td>352.0</td>\n",
       "      <td>3750.000000</td>\n",
       "      <td>570.0</td>\n",
       "      <td>478.0</td>\n",
       "    </tr>\n",
       "    <tr>\n",
       "      <th>3</th>\n",
       "      <td>2</td>\n",
       "      <td>80169</td>\n",
       "      <td>0.0</td>\n",
       "      <td>1181.250000</td>\n",
       "      <td>0.0</td>\n",
       "      <td>0.0</td>\n",
       "    </tr>\n",
       "    <tr>\n",
       "      <th>4</th>\n",
       "      <td>1</td>\n",
       "      <td>77372</td>\n",
       "      <td>64.0</td>\n",
       "      <td>1417.500000</td>\n",
       "      <td>60.0</td>\n",
       "      <td>-178.0</td>\n",
       "    </tr>\n",
       "  </tbody>\n",
       "</table>\n",
       "</div>"
      ],
      "text/plain": [
       "   WheelType  VehOdo  DiffAcquisition_CurrentRetailAveragePrice  \\\n",
       "0          2   61184                                      535.0   \n",
       "1          2   92383                                        0.0   \n",
       "2          2   45965                                      352.0   \n",
       "3          2   80169                                        0.0   \n",
       "4          1   77372                                       64.0   \n",
       "\n",
       "   VehBCost_f_VehicleAge  DiffAcquisition_CurrentAuctionAveragePrice  \\\n",
       "0            3050.000000                                       168.0   \n",
       "1            1333.333333                                         0.0   \n",
       "2            3750.000000                                       570.0   \n",
       "3            1181.250000                                         0.0   \n",
       "4            1417.500000                                        60.0   \n",
       "\n",
       "   DiffAcquisition_CurrentAuctionCleanPrice  \n",
       "0                                      20.0  \n",
       "1                                       0.0  \n",
       "2                                     478.0  \n",
       "3                                       0.0  \n",
       "4                                    -178.0  "
      ]
     },
     "execution_count": 5,
     "metadata": {},
     "output_type": "execute_result"
    }
   ],
   "source": [
    "df.head()"
   ]
  },
  {
   "cell_type": "code",
   "execution_count": 6,
   "metadata": {},
   "outputs": [],
   "source": [
    "from sklearn.preprocessing import StandardScaler, MinMaxScaler\n",
    "\n",
    "#Primo tipo di normalizzazione: Z-Score \n",
    "#scaler = StandardScaler()\n",
    "#X = scaler.fit_transform(df.values)\n",
    "\n",
    "#Secondo metodo di normalizzazione: MiniMax\n",
    "scaler = MinMaxScaler()\n",
    "X = scaler.fit_transform(df.values)"
   ]
  },
  {
   "cell_type": "code",
   "execution_count": 7,
   "metadata": {},
   "outputs": [
    {
     "data": {
      "image/png": "[encoded data removed]",
      "text/plain": [
       "<Figure size 432x288 with 1 Axes>"
      ]
     },
     "metadata": {
      "needs_background": "light"
     },
     "output_type": "display_data"
    },
    {
     "name": "stdout",
     "output_type": "stream",
     "text": [
      "1040 seconds needed\n"
     ]
    }
   ],
   "source": [
    "# -------------------------------------------------- KMeans ------------------------------------------------------------\n",
    "\n",
    "#Lanciamo 50 volte l'algoritmo KMeans e salviamo su file la lista delle 50 sse\n",
    "#corrispondenti ai vari k con la normalizzazione MiniMax\n",
    "from datetime import datetime\n",
    "\n",
    "start = datetime.now()\n",
    "\n",
    "from sklearn.cluster import KMeans\n",
    "from sklearn.metrics import silhouette_score\n",
    "\n",
    "sse_list = list()\n",
    "max_k = 50\n",
    "for k in range(2, max_k + 1):\n",
    "    kmeans = KMeans(n_clusters=k, n_init=10, max_iter=300)\n",
    "    kmeans.fit(X)\n",
    "    \n",
    "    sse = kmeans.inertia_\n",
    "    sse_list.append(sse)\n",
    "    \n",
    "fp1 = open('sse_list_MinMax_n.txt', 'w')\n",
    "\n",
    "for i in range(len(sse_list)):\n",
    "    if(i != len(sse_list) - 1):\n",
    "        fp1.write(str(sse_list[i]) + ', ')\n",
    "    else:\n",
    "        fp1.write(str(sse_list[i]))\n",
    "        \n",
    "fp1.close()\n",
    "\n",
    "plt.plot(range(2, len(sse_list) + 2), sse_list)\n",
    "plt.ylabel('SSE', fontsize=22)\n",
    "plt.xlabel('K', fontsize=22)\n",
    "plt.tick_params(axis='both', which='major', labelsize=22)\n",
    "plt.show()\n",
    "\n",
    "end = datetime.now()\n",
    "print( \"{} seconds needed\".format((end - start).seconds))"
   ]
  },
  {
   "cell_type": "code",
   "execution_count": 8,
   "metadata": {},
   "outputs": [
    {
     "data": {
      "image/png": "[encoded data removed]",
      "text/plain": [
       "<Figure size 1080x504 with 1 Axes>"
      ]
     },
     "metadata": {
      "needs_background": "light"
     },
     "output_type": "display_data"
    }
   ],
   "source": [
    "#Leggiamo dal file la lista delle sse con normalizzazione MiniMax e stampiamo il grafico\n",
    "\n",
    "import matplotlib.pyplot as plt\n",
    "import numpy as np\n",
    "\n",
    "fp = open('sse_list_MinMax_n.txt', 'r')\n",
    "sse_list_string = fp.readline().split(',')\n",
    "\n",
    "sse_list = []\n",
    "for element in sse_list_string:\n",
    "    sse_list.append(float(element))\n",
    "    \n",
    "x = range(2, len(sse_list) + 2)\n",
    "y = sse_list\n",
    "\n",
    "plt.figure(figsize = (15, 7))\n",
    "plt.plot(x,y)\n",
    "plt.ylabel('SSE', fontsize=22)\n",
    "plt.xlabel('K', fontsize=22)\n",
    "plt.tick_params(axis='both', which='major', labelsize=22)\n",
    "plt.grid()\n",
    "plt.show()"
   ]
  },
  {
   "cell_type": "code",
   "execution_count": 9,
   "metadata": {},
   "outputs": [
    {
     "name": "stdout",
     "output_type": "stream",
     "text": [
      "SSE 938.1850116321745\n",
      "Silhouette 0.3937142963695957\n"
     ]
    }
   ],
   "source": [
    "kmeans = KMeans(n_clusters=3, n_init=10, max_iter=300)\n",
    "kmeans.fit(X)\n",
    "print('SSE %s' % kmeans.inertia_)\n",
    "print('Silhouette %s' % silhouette_score(X, kmeans.labels_))"
   ]
  },
  {
   "cell_type": "code",
   "execution_count": 10,
   "metadata": {},
   "outputs": [
    {
     "name": "stdout",
     "output_type": "stream",
     "text": [
      "SSE 775.1319772415609\n",
      "Silhouette 0.2835314519661087\n"
     ]
    }
   ],
   "source": [
    "kmeans = KMeans(n_clusters=4, n_init=10, max_iter=300)\n",
    "kmeans.fit(X)\n",
    "print('SSE %s' % kmeans.inertia_)\n",
    "print('Silhouette %s' % silhouette_score(X, kmeans.labels_))"
   ]
  },
  {
   "cell_type": "code",
   "execution_count": 11,
   "metadata": {},
   "outputs": [
    {
     "name": "stdout",
     "output_type": "stream",
     "text": [
      "SSE 667.5912088588756\n",
      "Silhouette 0.3091567478299411\n"
     ]
    }
   ],
   "source": [
    "kmeans = KMeans(n_clusters=5, n_init=10, max_iter=300)\n",
    "kmeans.fit(X)\n",
    "print('SSE %s' % kmeans.inertia_)\n",
    "print('Silhouette %s' % silhouette_score(X, kmeans.labels_))"
   ]
  },
  {
   "cell_type": "code",
   "execution_count": 12,
   "metadata": {},
   "outputs": [
    {
     "name": "stdout",
     "output_type": "stream",
     "text": [
      "SSE 593.4120565302084\n",
      "Silhouette 0.30984409487004355\n"
     ]
    }
   ],
   "source": [
    "kmeans = KMeans(n_clusters=6, n_init=10, max_iter=300)\n",
    "kmeans.fit(X)\n",
    "print('SSE %s' % kmeans.inertia_)\n",
    "print('Silhouette %s' % silhouette_score(X, kmeans.labels_))"
   ]
  },
  {
   "cell_type": "code",
   "execution_count": 13,
   "metadata": {},
   "outputs": [
    {
     "name": "stdout",
     "output_type": "stream",
     "text": [
      "SSE 547.6507096927905\n",
      "Silhouette 0.30331456430075227\n"
     ]
    }
   ],
   "source": [
    "kmeans = KMeans(n_clusters=7, n_init=10, max_iter=300)\n",
    "kmeans.fit(X)\n",
    "print('SSE %s' % kmeans.inertia_)\n",
    "print('Silhouette %s' % silhouette_score(X, kmeans.labels_))"
   ]
  },
  {
   "cell_type": "code",
   "execution_count": 14,
   "metadata": {},
   "outputs": [
    {
     "name": "stdout",
     "output_type": "stream",
     "text": [
      "SSE 511.22984746684955\n",
      "Silhouette 0.3089238050378675\n"
     ]
    }
   ],
   "source": [
    "kmeans = KMeans(n_clusters=8, n_init=10, max_iter=300)\n",
    "kmeans.fit(X)\n",
    "print('SSE %s' % kmeans.inertia_)\n",
    "print('Silhouette %s' % silhouette_score(X, kmeans.labels_))"
   ]
  },
  {
   "cell_type": "code",
   "execution_count": 15,
   "metadata": {},
   "outputs": [
    {
     "name": "stdout",
     "output_type": "stream",
     "text": [
      "SSE 476.0014451424565\n",
      "Silhouette 0.31158326515242013\n"
     ]
    }
   ],
   "source": [
    "kmeans = KMeans(n_clusters=9, n_init=10, max_iter=300)\n",
    "kmeans.fit(X)\n",
    "print('SSE %s' % kmeans.inertia_)\n",
    "print('Silhouette %s' % silhouette_score(X, kmeans.labels_))"
   ]
  },
  {
   "cell_type": "code",
   "execution_count": 16,
   "metadata": {},
   "outputs": [
    {
     "name": "stdout",
     "output_type": "stream",
     "text": [
      "SSE 444.88134478506817\n",
      "Silhouette 0.30012166420533554\n"
     ]
    }
   ],
   "source": [
    "kmeans = KMeans(n_clusters=10, n_init=10, max_iter=300)\n",
    "kmeans.fit(X)\n",
    "print('SSE %s' % kmeans.inertia_)\n",
    "print('Silhouette %s' % silhouette_score(X, kmeans.labels_))"
   ]
  },
  {
   "cell_type": "code",
   "execution_count": 17,
   "metadata": {},
   "outputs": [
    {
     "name": "stdout",
     "output_type": "stream",
     "text": [
      "SSE 413.89997784438435\n",
      "Silhouette 0.2878379113589099\n"
     ]
    }
   ],
   "source": [
    "kmeans = KMeans(n_clusters=11, n_init=10, max_iter=300)\n",
    "kmeans.fit(X)\n",
    "print('SSE %s' % kmeans.inertia_)\n",
    "print('Silhouette %s' % silhouette_score(X, kmeans.labels_))"
   ]
  },
  {
   "cell_type": "code",
   "execution_count": 18,
   "metadata": {},
   "outputs": [
    {
     "name": "stdout",
     "output_type": "stream",
     "text": [
      "SSE 394.2051354964373\n",
      "Silhouette 0.29060442493757904\n"
     ]
    }
   ],
   "source": [
    "kmeans = KMeans(n_clusters=12, n_init=10, max_iter=300)\n",
    "kmeans.fit(X)\n",
    "print('SSE %s' % kmeans.inertia_)\n",
    "print('Silhouette %s' % silhouette_score(X, kmeans.labels_))"
   ]
  },
  {
   "cell_type": "code",
   "execution_count": 19,
   "metadata": {},
   "outputs": [
    {
     "name": "stdout",
     "output_type": "stream",
     "text": [
      "SSE 375.3238385599236\n",
      "Silhouette 0.277223301444479\n"
     ]
    }
   ],
   "source": [
    "kmeans = KMeans(n_clusters=13, n_init=10, max_iter=300)\n",
    "kmeans.fit(X)\n",
    "print('SSE %s' % kmeans.inertia_)\n",
    "print('Silhouette %s' % silhouette_score(X, kmeans.labels_))"
   ]
  },
  {
   "cell_type": "code",
   "execution_count": null,
   "metadata": {},
   "outputs": [
    {
     "name": "stdout",
     "output_type": "stream",
     "text": [
      "SSE 359.3964028344212\n"
     ]
    }
   ],
   "source": [
    "kmeans = KMeans(n_clusters=14, n_init=10, max_iter=300)\n",
    "kmeans.fit(X)\n",
    "print('SSE %s' % kmeans.inertia_)\n",
    "print('Silhouette %s' % silhouette_score(X, kmeans.labels_))"
   ]
  },
  {
   "cell_type": "code",
   "execution_count": null,
   "metadata": {},
   "outputs": [],
   "source": [
    "kmeans = KMeans(n_clusters=15, n_init=10, max_iter=300)\n",
    "kmeans.fit(X)\n",
    "print('SSE %s' % kmeans.inertia_)\n",
    "print('Silhouette %s' % silhouette_score(X, kmeans.labels_))"
   ]
  },
  {
   "cell_type": "code",
   "execution_count": null,
   "metadata": {},
   "outputs": [],
   "source": [
    "kmeans = KMeans(n_clusters=16, n_init=10, max_iter=300)\n",
    "kmeans.fit(X)\n",
    "print('SSE %s' % kmeans.inertia_)\n",
    "print('Silhouette %s' % silhouette_score(X, kmeans.labels_))"
   ]
  },
  {
   "cell_type": "code",
   "execution_count": null,
   "metadata": {},
   "outputs": [],
   "source": [
    "kmeans = KMeans(n_clusters=17, n_init=10, max_iter=300)\n",
    "kmeans.fit(X)\n",
    "print('SSE %s' % kmeans.inertia_)\n",
    "print('Silhouette %s' % silhouette_score(X, kmeans.labels_))"
   ]
  },
  {
   "cell_type": "code",
   "execution_count": null,
   "metadata": {},
   "outputs": [],
   "source": [
    "#VehicleAge, VehOdo, VehBCost, WarrantyCost, AcquisitionAveragePrice, CurrentAveragePrice\n",
    "'''\n",
    "varlist=['VehBCost','AcquisitionAveragePrice','VehicleAge', 'VehOdo','WarrantyCost', 'CurrentAveragePrice']\n",
    "for i in range (len(varlist)):\n",
    "    for j in range (i+1,len(varlist)):\n",
    "        plt.scatter(df[varlist[i]], df[varlist[j]], c=kmeans.labels_, s=20)\n",
    "        plt.xlabel(varlist[i])\n",
    "        plt.ylabel(varlist[j])\n",
    "        plt.tick_params(axis='both', which='major', labelsize=22)\n",
    "        plt.show() \n",
    "'''        "
   ]
  },
  {
   "cell_type": "code",
   "execution_count": null,
   "metadata": {},
   "outputs": [],
   "source": [
    "#Grafici di tutti i min_samples e k (prima bisogna avere già X normalizzata con Z-Score o MinMax)\n",
    "\n",
    "from datetime import datetime\n",
    "from sklearn.cluster import DBSCAN\n",
    "from sklearn.metrics import silhouette_score\n",
    "from scipy.spatial.distance import pdist, squareform\n",
    "\n",
    "start = datetime.now()\n",
    "\n",
    "dist = pdist(X) #pair wise distance\n",
    "print (dist)\n",
    "dist = squareform(dist) #distance matrix given the vector dist\n",
    "print()\n",
    "print(dist)\n",
    "\n",
    "for k in range (5,100,5):\n",
    "    kth_distances = list()\n",
    "    for d in dist:\n",
    "            index_kth_distance = np.argsort(d)[k]\n",
    "            kth_distances.append(d[index_kth_distance])\n",
    "    k1= str(k)\n",
    "    fp2 = open('kth_distances_with_minsamples_MiniMax_n'+k1+'.txt', 'w')\n",
    "    for i in range(len(kth_distances)):\n",
    "        if(i != len(kth_distances) - 1):\n",
    "            fp2.write(str(kth_distances[i])+', ')\n",
    "        if(i == len(kth_distances) - 1):\n",
    "            fp2.write(str(kth_distances[i]))        \n",
    "\n",
    "    fp2.close()\n",
    "    \n",
    "end = datetime.now()\n",
    "print( \"{} seconds needed\".format((end - start).seconds))"
   ]
  },
  {
   "cell_type": "code",
   "execution_count": null,
   "metadata": {},
   "outputs": [],
   "source": [
    "#Ginocchio per DBSCAN minsamples = 5\n",
    "\n",
    "import matplotlib.pyplot as plt\n",
    "import numpy as np\n",
    "\n",
    "fp = open('kth_distances_with_minsamples_MiniMax_n5.txt', 'r')\n",
    "kth_distances_string = fp.readline().split(',')\n",
    "\n",
    "kth_distances = []\n",
    "for element in kth_distances_string:\n",
    "    kth_distances.append(float(element))\n",
    "    \n",
    "fig = plt.figure(figsize = (7, 15))\n",
    "x = range(0, len(kth_distances))\n",
    "y = sorted(kth_distances)\n",
    "ax = fig.gca()\n",
    "ax.set_yticks(np.arange(0, 1.5, 0.05))\n",
    "plt.plot(x,y)\n",
    "plt.ylabel('dist from 5th neighbor', fontsize=18)\n",
    "plt.xlabel('sorted distances', fontsize=18)\n",
    "plt.tick_params(axis='both', which='major', labelsize=22)\n",
    "plt.grid()\n",
    "plt.show()"
   ]
  },
  {
   "cell_type": "code",
   "execution_count": null,
   "metadata": {},
   "outputs": [],
   "source": [
    "'''\n",
    "dbscan = DBSCAN(eps=0.05, min_samples=5)\n",
    "dbscan.fit(X)\n",
    "np.unique(dbscan.labels_, return_counts=True)\n",
    "print('Silhouette %s' % silhouette_score(X, dbscan.labels_))\n",
    "'''"
   ]
  },
  {
   "cell_type": "code",
   "execution_count": null,
   "metadata": {},
   "outputs": [],
   "source": [
    "#Ginocchio per DBSCAN minsamples = 10\n",
    "\n",
    "import matplotlib.pyplot as plt\n",
    "import numpy as np\n",
    "\n",
    "fp = open('kth_distances_with_minsamples_MiniMax_n10.txt', 'r')\n",
    "kth_distances_string = fp.readline().split(',')\n",
    "\n",
    "kth_distances = []\n",
    "for element in kth_distances_string:\n",
    "    kth_distances.append(float(element))\n",
    "    \n",
    "fig = plt.figure(figsize = (7, 15))\n",
    "x = range(0, len(kth_distances))\n",
    "y = sorted(kth_distances)\n",
    "ax = fig.gca()\n",
    "ax.set_yticks(np.arange(0, 1.5, 0.05))\n",
    "plt.plot(x,y)\n",
    "plt.ylabel('dist from 10th neighbor', fontsize=18)\n",
    "plt.xlabel('sorted distances', fontsize=18)\n",
    "plt.tick_params(axis='both', which='major', labelsize=22)\n",
    "plt.grid()\n",
    "plt.show()"
   ]
  },
  {
   "cell_type": "code",
   "execution_count": null,
   "metadata": {},
   "outputs": [],
   "source": [
    "'''\n",
    "dbscan = DBSCAN(eps=0.06, min_samples=10)\n",
    "dbscan.fit(X)\n",
    "np.unique(dbscan.labels_, return_counts=True)\n",
    "print('Silhouette %s' % silhouette_score(X, dbscan.labels_))\n",
    "'''"
   ]
  },
  {
   "cell_type": "code",
   "execution_count": null,
   "metadata": {},
   "outputs": [],
   "source": [
    "#Ginocchio per DBSCAN minsamples = 15\n",
    "\n",
    "import matplotlib.pyplot as plt\n",
    "import numpy as np\n",
    "\n",
    "fp = open('kth_distances_with_minsamples_MiniMax_n15.txt', 'r')\n",
    "kth_distances_string = fp.readline().split(',')\n",
    "\n",
    "kth_distances = []\n",
    "for element in kth_distances_string:\n",
    "    kth_distances.append(float(element))\n",
    "    \n",
    "fig = plt.figure(figsize = (7, 15))\n",
    "x = range(0, len(kth_distances))\n",
    "y = sorted(kth_distances)\n",
    "ax = fig.gca()\n",
    "ax.set_yticks(np.arange(0, 1.5, 0.05))\n",
    "plt.plot(x,y)\n",
    "plt.ylabel('dist from 15th neighbor', fontsize=18)\n",
    "plt.xlabel('sorted distances', fontsize=18)\n",
    "plt.tick_params(axis='both', which='major', labelsize=22)\n",
    "plt.grid()\n",
    "plt.show()"
   ]
  },
  {
   "cell_type": "code",
   "execution_count": null,
   "metadata": {},
   "outputs": [],
   "source": [
    "'''\n",
    "dbscan = DBSCAN(eps=0.06, min_samples=15)\n",
    "dbscan.fit(X)\n",
    "np.unique(dbscan.labels_, return_counts=True)\n",
    "print('Silhouette %s' % silhouette_score(X, dbscan.labels_))\n",
    "'''"
   ]
  },
  {
   "cell_type": "code",
   "execution_count": null,
   "metadata": {},
   "outputs": [],
   "source": [
    "#Ginocchio per DBSCAN minsamples = 20\n",
    "\n",
    "import matplotlib.pyplot as plt\n",
    "import numpy as np\n",
    "\n",
    "fp = open('kth_distances_with_minsamples_MiniMax_n20.txt', 'r')\n",
    "kth_distances_string = fp.readline().split(',')\n",
    "\n",
    "kth_distances = []\n",
    "for element in kth_distances_string:\n",
    "    kth_distances.append(float(element))\n",
    "    \n",
    "fig = plt.figure(figsize = (7, 15))\n",
    "x = range(0, len(kth_distances))\n",
    "y = sorted(kth_distances)\n",
    "ax = fig.gca()\n",
    "ax.set_yticks(np.arange(0, 1.5, 0.05))\n",
    "plt.plot(x,y)\n",
    "plt.ylabel('dist from 20th neighbor', fontsize=18)\n",
    "plt.xlabel('sorted distances', fontsize=18)\n",
    "plt.tick_params(axis='both', which='major', labelsize=22)\n",
    "plt.grid()\n",
    "plt.show()"
   ]
  },
  {
   "cell_type": "code",
   "execution_count": null,
   "metadata": {},
   "outputs": [],
   "source": [
    "'''\n",
    "dbscan = DBSCAN(eps=0.065, min_samples=20)\n",
    "dbscan.fit(X)\n",
    "np.unique(dbscan.labels_, return_counts=True)\n",
    "print('Silhouette %s' % silhouette_score(X, dbscan.labels_))\n",
    "'''"
   ]
  },
  {
   "cell_type": "code",
   "execution_count": null,
   "metadata": {},
   "outputs": [],
   "source": [
    "#Ginocchio per DBSCAN minsamples = 25\n",
    "\n",
    "import matplotlib.pyplot as plt\n",
    "import numpy as np\n",
    "\n",
    "fp = open('kth_distances_with_minsamples_MiniMax_n25.txt', 'r')\n",
    "kth_distances_string = fp.readline().split(',')\n",
    "\n",
    "kth_distances = []\n",
    "for element in kth_distances_string:\n",
    "    kth_distances.append(float(element))\n",
    "    \n",
    "fig = plt.figure(figsize = (7, 15))\n",
    "x = range(0, len(kth_distances))\n",
    "y = sorted(kth_distances)\n",
    "ax = fig.gca()\n",
    "ax.set_yticks(np.arange(0, 1.5, 0.05))\n",
    "plt.plot(x,y)\n",
    "plt.ylabel('dist from 25th neighbor', fontsize=18)\n",
    "plt.xlabel('sorted distances', fontsize=18)\n",
    "plt.tick_params(axis='both', which='major', labelsize=22)\n",
    "plt.grid()\n",
    "plt.show()"
   ]
  },
  {
   "cell_type": "code",
   "execution_count": null,
   "metadata": {},
   "outputs": [],
   "source": [
    "'''\n",
    "dbscan = DBSCAN(eps=0.065, min_samples=25)\n",
    "dbscan.fit(X)\n",
    "np.unique(dbscan.labels_, return_counts=True)\n",
    "print('Silhouette %s' % silhouette_score(X, dbscan.labels_))\n",
    "'''"
   ]
  },
  {
   "cell_type": "code",
   "execution_count": null,
   "metadata": {},
   "outputs": [],
   "source": [
    "#Ginocchio per DBSCAN minsamples = 30\n",
    "\n",
    "import matplotlib.pyplot as plt\n",
    "import numpy as np\n",
    "\n",
    "fp = open('kth_distances_with_minsamples_MiniMax_n30.txt', 'r')\n",
    "kth_distances_string = fp.readline().split(',')\n",
    "\n",
    "kth_distances = []\n",
    "for element in kth_distances_string:\n",
    "    kth_distances.append(float(element))\n",
    "    \n",
    "fig = plt.figure(figsize = (7, 15))\n",
    "x = range(0, len(kth_distances))\n",
    "y = sorted(kth_distances)\n",
    "ax = fig.gca()\n",
    "ax.set_yticks(np.arange(0, 1.5, 0.05))\n",
    "plt.plot(x,y)\n",
    "plt.ylabel('dist from 30th neighbor', fontsize=18)\n",
    "plt.xlabel('sorted distances', fontsize=18)\n",
    "plt.tick_params(axis='both', which='major', labelsize=22)\n",
    "plt.grid()\n",
    "plt.show()"
   ]
  },
  {
   "cell_type": "code",
   "execution_count": null,
   "metadata": {},
   "outputs": [],
   "source": [
    "'''\n",
    "dbscan = DBSCAN(eps=0.07, min_samples=30)\n",
    "dbscan.fit(X)\n",
    "np.unique(dbscan.labels_, return_counts=True)\n",
    "print('Silhouette %s' % silhouette_score(X, dbscan.labels_))\n",
    "'''"
   ]
  },
  {
   "cell_type": "code",
   "execution_count": null,
   "metadata": {},
   "outputs": [],
   "source": [
    "#Ginocchio per DBSCAN minsamples = 35\n",
    "\n",
    "import matplotlib.pyplot as plt\n",
    "import numpy as np\n",
    "\n",
    "fp = open('kth_distances_with_minsamples_MiniMax_n35.txt', 'r')\n",
    "kth_distances_string = fp.readline().split(',')\n",
    "\n",
    "kth_distances = []\n",
    "for element in kth_distances_string:\n",
    "    kth_distances.append(float(element))\n",
    "    \n",
    "fig = plt.figure(figsize = (7, 15))\n",
    "x = range(0, len(kth_distances))\n",
    "y = sorted(kth_distances)\n",
    "ax = fig.gca()\n",
    "ax.set_yticks(np.arange(0, 1.5, 0.05))\n",
    "plt.plot(x,y)\n",
    "plt.ylabel('dist from 35th neighbor', fontsize=18)\n",
    "plt.xlabel('sorted distances', fontsize=18)\n",
    "plt.tick_params(axis='both', which='major', labelsize=22)\n",
    "plt.grid()\n",
    "plt.show()"
   ]
  },
  {
   "cell_type": "code",
   "execution_count": null,
   "metadata": {},
   "outputs": [],
   "source": [
    "'''\n",
    "dbscan = DBSCAN(eps=0.07, min_samples=35)\n",
    "dbscan.fit(X)\n",
    "np.unique(dbscan.labels_, return_counts=True)\n",
    "print('Silhouette %s' % silhouette_score(X, dbscan.labels_))\n",
    "'''"
   ]
  },
  {
   "cell_type": "code",
   "execution_count": null,
   "metadata": {},
   "outputs": [],
   "source": [
    "#Ginocchio per DBSCAN minsamples = 40\n",
    "\n",
    "import matplotlib.pyplot as plt\n",
    "import numpy as np\n",
    "\n",
    "fp = open('kth_distances_with_minsamples_MiniMax_n40.txt', 'r')\n",
    "kth_distances_string = fp.readline().split(',')\n",
    "\n",
    "kth_distances = []\n",
    "for element in kth_distances_string:\n",
    "    kth_distances.append(float(element))\n",
    "    \n",
    "fig = plt.figure(figsize = (7, 15))\n",
    "x = range(0, len(kth_distances))\n",
    "y = sorted(kth_distances)\n",
    "ax = fig.gca()\n",
    "ax.set_yticks(np.arange(0, 1.5, 0.05))\n",
    "plt.plot(x,y)\n",
    "plt.ylabel('dist from 40th neighbor', fontsize=18)\n",
    "plt.xlabel('sorted distances', fontsize=18)\n",
    "plt.tick_params(axis='both', which='major', labelsize=22)\n",
    "plt.grid()\n",
    "plt.show()"
   ]
  },
  {
   "cell_type": "code",
   "execution_count": null,
   "metadata": {},
   "outputs": [],
   "source": [
    "'''\n",
    "dbscan = DBSCAN(eps=0.075, min_samples=40)\n",
    "dbscan.fit(X)\n",
    "np.unique(dbscan.labels_, return_counts=True)\n",
    "print('Silhouette %s' % silhouette_score(X, dbscan.labels_))\n",
    "'''"
   ]
  },
  {
   "cell_type": "code",
   "execution_count": null,
   "metadata": {},
   "outputs": [],
   "source": [
    "#Ginocchio per DBSCAN minsamples = 45\n",
    "\n",
    "import matplotlib.pyplot as plt\n",
    "import numpy as np\n",
    "\n",
    "fp = open('kth_distances_with_minsamples_MiniMax_n45.txt', 'r')\n",
    "kth_distances_string = fp.readline().split(',')\n",
    "\n",
    "kth_distances = []\n",
    "for element in kth_distances_string:\n",
    "    kth_distances.append(float(element))\n",
    "    \n",
    "fig = plt.figure(figsize = (7, 15))\n",
    "x = range(0, len(kth_distances))\n",
    "y = sorted(kth_distances)\n",
    "ax = fig.gca()\n",
    "ax.set_yticks(np.arange(0, 1.5, 0.05))\n",
    "plt.plot(x,y)\n",
    "plt.ylabel('dist from 45th neighbor', fontsize=18)\n",
    "plt.xlabel('sorted distances', fontsize=18)\n",
    "plt.tick_params(axis='both', which='major', labelsize=22)\n",
    "plt.grid()\n",
    "plt.show()"
   ]
  },
  {
   "cell_type": "code",
   "execution_count": null,
   "metadata": {},
   "outputs": [],
   "source": [
    "'''\n",
    "dbscan = DBSCAN(eps=0.08, min_samples=45)\n",
    "dbscan.fit(X)\n",
    "np.unique(dbscan.labels_, return_counts=True)\n",
    "print('Silhouette %s' % silhouette_score(X, dbscan.labels_))\n",
    "'''"
   ]
  },
  {
   "cell_type": "code",
   "execution_count": null,
   "metadata": {},
   "outputs": [],
   "source": [
    "#Ginocchio per DBSCAN minsamples = 50\n",
    "\n",
    "import matplotlib.pyplot as plt\n",
    "import numpy as np\n",
    "\n",
    "fp = open('kth_distances_with_minsamples_MiniMax_n50.txt', 'r')\n",
    "kth_distances_string = fp.readline().split(',')\n",
    "\n",
    "kth_distances = []\n",
    "for element in kth_distances_string:\n",
    "    kth_distances.append(float(element))\n",
    "    \n",
    "fig = plt.figure(figsize = (7, 15))\n",
    "x = range(0, len(kth_distances))\n",
    "y = sorted(kth_distances)\n",
    "ax = fig.gca()\n",
    "ax.set_yticks(np.arange(0, 1.5, 0.05))\n",
    "plt.plot(x,y)\n",
    "plt.ylabel('dist from 50th neighbor', fontsize=18)\n",
    "plt.xlabel('sorted distances', fontsize=18)\n",
    "plt.tick_params(axis='both', which='major', labelsize=22)\n",
    "plt.grid()\n",
    "plt.show()"
   ]
  },
  {
   "cell_type": "code",
   "execution_count": null,
   "metadata": {},
   "outputs": [],
   "source": [
    "'''\n",
    "dbscan = DBSCAN(eps=0.085, min_samples=50)\n",
    "dbscan.fit(X)\n",
    "np.unique(dbscan.labels_, return_counts=True)\n",
    "print('Silhouette %s' % silhouette_score(X, dbscan.labels_))\n",
    "'''"
   ]
  },
  {
   "cell_type": "code",
   "execution_count": null,
   "metadata": {},
   "outputs": [],
   "source": [
    "#Ginocchio per DBSCAN minsamples = 55\n",
    "\n",
    "import matplotlib.pyplot as plt\n",
    "import numpy as np\n",
    "\n",
    "fp = open('kth_distances_with_minsamples_MiniMax_n55.txt', 'r')\n",
    "kth_distances_string = fp.readline().split(',')\n",
    "\n",
    "kth_distances = []\n",
    "for element in kth_distances_string:\n",
    "    kth_distances.append(float(element))\n",
    "    \n",
    "fig = plt.figure(figsize = (7, 15))\n",
    "x = range(0, len(kth_distances))\n",
    "y = sorted(kth_distances)\n",
    "ax = fig.gca()\n",
    "ax.set_yticks(np.arange(0, 1.5, 0.05))\n",
    "plt.plot(x,y)\n",
    "plt.ylabel('dist from 55th neighbor', fontsize=18)\n",
    "plt.xlabel('sorted distances', fontsize=18)\n",
    "plt.tick_params(axis='both', which='major', labelsize=22)\n",
    "plt.grid()\n",
    "plt.show()"
   ]
  },
  {
   "cell_type": "code",
   "execution_count": null,
   "metadata": {},
   "outputs": [],
   "source": [
    "'''\n",
    "dbscan = DBSCAN(eps=0.09, min_samples=55)\n",
    "dbscan.fit(X)\n",
    "np.unique(dbscan.labels_, return_counts=True)\n",
    "print('Silhouette %s' % silhouette_score(X, dbscan.labels_))\n",
    "'''"
   ]
  },
  {
   "cell_type": "code",
   "execution_count": null,
   "metadata": {},
   "outputs": [],
   "source": [
    "#Ginocchio per DBSCAN minsamples = 60\n",
    "\n",
    "import matplotlib.pyplot as plt\n",
    "import numpy as np\n",
    "\n",
    "fp = open('kth_distances_with_minsamples_MiniMax_n60.txt', 'r')\n",
    "kth_distances_string = fp.readline().split(',')\n",
    "\n",
    "kth_distances = []\n",
    "for element in kth_distances_string:\n",
    "    kth_distances.append(float(element))\n",
    "    \n",
    "fig = plt.figure(figsize = (7, 15))\n",
    "x = range(0, len(kth_distances))\n",
    "y = sorted(kth_distances)\n",
    "ax = fig.gca()\n",
    "ax.set_yticks(np.arange(0, 1.5, 0.05))\n",
    "plt.plot(x,y)\n",
    "plt.ylabel('dist from 60th neighbor', fontsize=18)\n",
    "plt.xlabel('sorted distances', fontsize=18)\n",
    "plt.tick_params(axis='both', which='major', labelsize=22)\n",
    "plt.grid()\n",
    "plt.show()"
   ]
  },
  {
   "cell_type": "code",
   "execution_count": null,
   "metadata": {},
   "outputs": [],
   "source": [
    "'''\n",
    "dbscan = DBSCAN(eps=0.09, min_samples=60)\n",
    "dbscan.fit(X)\n",
    "np.unique(dbscan.labels_, return_counts=True)\n",
    "print('Silhouette %s' % silhouette_score(X, dbscan.labels_))\n",
    "'''"
   ]
  },
  {
   "cell_type": "code",
   "execution_count": null,
   "metadata": {},
   "outputs": [],
   "source": [
    "#Ginocchio per DBSCAN minsamples = 65\n",
    "\n",
    "import matplotlib.pyplot as plt\n",
    "import numpy as np\n",
    "\n",
    "fp = open('kth_distances_with_minsamples_MiniMax_n65.txt', 'r')\n",
    "kth_distances_string = fp.readline().split(',')\n",
    "\n",
    "kth_distances = []\n",
    "for element in kth_distances_string:\n",
    "    kth_distances.append(float(element))\n",
    "    \n",
    "fig = plt.figure(figsize = (7, 15))\n",
    "x = range(0, len(kth_distances))\n",
    "y = sorted(kth_distances)\n",
    "ax = fig.gca()\n",
    "ax.set_yticks(np.arange(0, 1.5, 0.05))\n",
    "plt.plot(x,y)\n",
    "plt.ylabel('dist from 65th neighbor', fontsize=18)\n",
    "plt.xlabel('sorted distances', fontsize=18)\n",
    "plt.tick_params(axis='both', which='major', labelsize=22)\n",
    "plt.grid()\n",
    "plt.show()"
   ]
  },
  {
   "cell_type": "code",
   "execution_count": null,
   "metadata": {},
   "outputs": [],
   "source": [
    "'''\n",
    "dbscan = DBSCAN(eps=0.095, min_samples=65)\n",
    "dbscan.fit(X)\n",
    "np.unique(dbscan.labels_, return_counts=True)\n",
    "print('Silhouette %s' % silhouette_score(X, dbscan.labels_))\n",
    "'''"
   ]
  },
  {
   "cell_type": "code",
   "execution_count": null,
   "metadata": {},
   "outputs": [],
   "source": [
    "#Ginocchio per DBSCAN minsamples = 70\n",
    "\n",
    "import matplotlib.pyplot as plt\n",
    "import numpy as np\n",
    "\n",
    "fp = open('kth_distances_with_minsamples_MiniMax_n70.txt', 'r')\n",
    "kth_distances_string = fp.readline().split(',')\n",
    "\n",
    "kth_distances = []\n",
    "for element in kth_distances_string:\n",
    "    kth_distances.append(float(element))\n",
    "    \n",
    "fig = plt.figure(figsize = (7, 15))\n",
    "x = range(0, len(kth_distances))\n",
    "y = sorted(kth_distances)\n",
    "ax = fig.gca()\n",
    "ax.set_yticks(np.arange(0, 1.5, 0.05))\n",
    "plt.plot(x,y)\n",
    "plt.ylabel('dist from 70th neighbor', fontsize=18)\n",
    "plt.xlabel('sorted distances', fontsize=18)\n",
    "plt.tick_params(axis='both', which='major', labelsize=22)\n",
    "plt.grid()\n",
    "plt.show()"
   ]
  },
  {
   "cell_type": "code",
   "execution_count": null,
   "metadata": {},
   "outputs": [],
   "source": [
    "'''\n",
    "dbscan = DBSCAN(eps=0.095, min_samples=70)\n",
    "dbscan.fit(X)\n",
    "np.unique(dbscan.labels_, return_counts=True)\n",
    "print('Silhouette %s' % silhouette_score(X, dbscan.labels_))\n",
    "'''"
   ]
  },
  {
   "cell_type": "code",
   "execution_count": null,
   "metadata": {},
   "outputs": [],
   "source": [
    "#Ginocchio per DBSCAN minsamples = 75\n",
    "\n",
    "import matplotlib.pyplot as plt\n",
    "import numpy as np\n",
    "\n",
    "fp = open('kth_distances_with_minsamples_MiniMax_n75.txt', 'r')\n",
    "kth_distances_string = fp.readline().split(',')\n",
    "\n",
    "kth_distances = []\n",
    "for element in kth_distances_string:\n",
    "    kth_distances.append(float(element))\n",
    "    \n",
    "fig = plt.figure(figsize = (7, 15))\n",
    "x = range(0, len(kth_distances))\n",
    "y = sorted(kth_distances)\n",
    "ax = fig.gca()\n",
    "ax.set_yticks(np.arange(0, 1.5, 0.05))\n",
    "plt.plot(x,y)\n",
    "plt.ylabel('dist from 75th neighbor', fontsize=18)\n",
    "plt.xlabel('sorted distances', fontsize=18)\n",
    "plt.tick_params(axis='both', which='major', labelsize=22)\n",
    "plt.grid()\n",
    "plt.show()"
   ]
  },
  {
   "cell_type": "code",
   "execution_count": null,
   "metadata": {},
   "outputs": [],
   "source": [
    "'''\n",
    "dbscan = DBSCAN(eps=0.10, min_samples=75)\n",
    "dbscan.fit(X)\n",
    "np.unique(dbscan.labels_, return_counts=True)\n",
    "print('Silhouette %s' % silhouette_score(X, dbscan.labels_))\n",
    "'''"
   ]
  },
  {
   "cell_type": "code",
   "execution_count": null,
   "metadata": {},
   "outputs": [],
   "source": [
    "#Ginocchio per DBSCAN minsamples = 80\n",
    "\n",
    "import matplotlib.pyplot as plt\n",
    "import numpy as np\n",
    "\n",
    "fp = open('kth_distances_with_minsamples_MiniMax_n80.txt', 'r')\n",
    "kth_distances_string = fp.readline().split(',')\n",
    "\n",
    "kth_distances = []\n",
    "for element in kth_distances_string:\n",
    "    kth_distances.append(float(element))\n",
    "    \n",
    "fig = plt.figure(figsize = (7, 15))\n",
    "x = range(0, len(kth_distances))\n",
    "y = sorted(kth_distances)\n",
    "ax = fig.gca()\n",
    "ax.set_yticks(np.arange(0, 1.5, 0.05))\n",
    "plt.plot(x,y)\n",
    "plt.ylabel('dist from 80th neighbor', fontsize=18)\n",
    "plt.xlabel('sorted distances', fontsize=18)\n",
    "plt.tick_params(axis='both', which='major', labelsize=22)\n",
    "plt.grid()\n",
    "plt.show()"
   ]
  },
  {
   "cell_type": "code",
   "execution_count": null,
   "metadata": {},
   "outputs": [],
   "source": [
    "'''\n",
    "dbscan = DBSCAN(eps=0.10, min_samples=80)\n",
    "dbscan.fit(X)\n",
    "np.unique(dbscan.labels_, return_counts=True)\n",
    "print('Silhouette %s' % silhouette_score(X, dbscan.labels_))\n",
    "'''"
   ]
  },
  {
   "cell_type": "code",
   "execution_count": null,
   "metadata": {},
   "outputs": [],
   "source": [
    "#Ginocchio per DBSCAN minsamples = 85\n",
    "\n",
    "import matplotlib.pyplot as plt\n",
    "import numpy as np\n",
    "\n",
    "fp = open('kth_distances_with_minsamples_MiniMax_n85.txt', 'r')\n",
    "kth_distances_string = fp.readline().split(',')\n",
    "\n",
    "kth_distances = []\n",
    "for element in kth_distances_string:\n",
    "    kth_distances.append(float(element))\n",
    "    \n",
    "fig = plt.figure(figsize = (7, 15))\n",
    "x = range(0, len(kth_distances))\n",
    "y = sorted(kth_distances)\n",
    "ax = fig.gca()\n",
    "ax.set_yticks(np.arange(0, 1.5, 0.05))\n",
    "plt.plot(x,y)\n",
    "plt.ylabel('dist from 85th neighbor', fontsize=18)\n",
    "plt.xlabel('sorted distances', fontsize=18)\n",
    "plt.tick_params(axis='both', which='major', labelsize=22)\n",
    "plt.grid()\n",
    "plt.show()"
   ]
  },
  {
   "cell_type": "code",
   "execution_count": null,
   "metadata": {},
   "outputs": [],
   "source": [
    "'''\n",
    "dbscan = DBSCAN(eps=0.10, min_samples=85)\n",
    "dbscan.fit(X)\n",
    "np.unique(dbscan.labels_, return_counts=True)\n",
    "print('Silhouette %s' % silhouette_score(X, dbscan.labels_))\n",
    "'''"
   ]
  },
  {
   "cell_type": "code",
   "execution_count": null,
   "metadata": {},
   "outputs": [],
   "source": [
    "#Ginocchio per DBSCAN minsamples = 90\n",
    "\n",
    "import matplotlib.pyplot as plt\n",
    "import numpy as np\n",
    "\n",
    "fp = open('kth_distances_with_minsamples_MiniMax_n90.txt', 'r')\n",
    "kth_distances_string = fp.readline().split(',')\n",
    "\n",
    "kth_distances = []\n",
    "for element in kth_distances_string:\n",
    "    kth_distances.append(float(element))\n",
    "    \n",
    "fig = plt.figure(figsize = (7, 15))\n",
    "x = range(0, len(kth_distances))\n",
    "y = sorted(kth_distances)\n",
    "ax = fig.gca()\n",
    "ax.set_yticks(np.arange(0, 1.5, 0.05))\n",
    "plt.plot(x,y)\n",
    "plt.ylabel('dist from 90th neighbor', fontsize=18)\n",
    "plt.xlabel('sorted distances', fontsize=18)\n",
    "plt.tick_params(axis='both', which='major', labelsize=22)\n",
    "plt.grid()\n",
    "plt.show()"
   ]
  },
  {
   "cell_type": "code",
   "execution_count": null,
   "metadata": {},
   "outputs": [],
   "source": [
    "'''\n",
    "dbscan = DBSCAN(eps=0.10, min_samples=90)\n",
    "dbscan.fit(X)\n",
    "np.unique(dbscan.labels_, return_counts=True)\n",
    "print('Silhouette %s' % silhouette_score(X, dbscan.labels_))\n",
    "'''"
   ]
  },
  {
   "cell_type": "code",
   "execution_count": null,
   "metadata": {},
   "outputs": [],
   "source": [
    "#Ginocchio per DBSCAN minsamples = 95\n",
    "\n",
    "import matplotlib.pyplot as plt\n",
    "import numpy as np\n",
    "\n",
    "fp = open('kth_distances_with_minsamples_MiniMax_n95.txt', 'r')\n",
    "kth_distances_string = fp.readline().split(',')\n",
    "\n",
    "kth_distances = []\n",
    "for element in kth_distances_string:\n",
    "    kth_distances.append(float(element))\n",
    "    \n",
    "fig = plt.figure(figsize = (7, 15))\n",
    "x = range(0, len(kth_distances))\n",
    "y = sorted(kth_distances)\n",
    "ax = fig.gca()\n",
    "ax.set_yticks(np.arange(0, 1.5, 0.05))\n",
    "plt.plot(x,y)\n",
    "plt.ylabel('dist from 95th neighbor', fontsize=18)\n",
    "plt.xlabel('sorted distances', fontsize=18)\n",
    "plt.tick_params(axis='both', which='major', labelsize=22)\n",
    "plt.grid()\n",
    "plt.show()"
   ]
  },
  {
   "cell_type": "code",
   "execution_count": null,
   "metadata": {},
   "outputs": [],
   "source": [
    "'''\n",
    "dbscan = DBSCAN(eps=0.10, min_samples=95)\n",
    "dbscan.fit(X)\n",
    "np.unique(dbscan.labels_, return_counts=True)\n",
    "print('Silhouette %s' % silhouette_score(X, dbscan.labels_))\n",
    "'''"
   ]
  },
  {
   "cell_type": "code",
   "execution_count": null,
   "metadata": {},
   "outputs": [],
   "source": [
    "'''\n",
    "# --------------------------------------------------- Hierarchical --------------------------------------------------\n",
    "\n",
    "from scipy.stats import mode\n",
    "from scipy.spatial.distance import pdist\n",
    "from scipy.cluster.hierarchy import linkage, dendrogram\n",
    "\n",
    "start = datetime.now()\n",
    "'''"
   ]
  },
  {
   "cell_type": "code",
   "execution_count": null,
   "metadata": {},
   "outputs": [],
   "source": [
    "'''\n",
    "data_dist = pdist(X, metric='euclidean')\n",
    "data_link = linkage(data_dist, method='complete', metric='euclidean')\n",
    "res = dendrogram(data_link, color_threshold=1.0, truncate_mode='lastp')\n",
    "\n",
    "end = datetime.now()\n",
    "print( \"{} seconds needed\".format((end - start).seconds))\n",
    "'''"
   ]
  },
  {
   "cell_type": "code",
   "execution_count": null,
   "metadata": {},
   "outputs": [],
   "source": [
    "'''\n",
    "start = datetime.now()\n",
    "\n",
    "res = dendrogram(data_link, color_threshold=1.0)\n",
    "\n",
    "end = datetime.now()\n",
    "print( \"{} seconds needed\".format((end - start).seconds))\n",
    "'''"
   ]
  },
  {
   "cell_type": "code",
   "execution_count": null,
   "metadata": {},
   "outputs": [],
   "source": [
    "'''\n",
    "start = datetime.now()\n",
    "\n",
    "data_dist = pdist(X, metric='euclidean')\n",
    "data_link = linkage(data_dist, method='single', metric='euclidean')\n",
    "res = dendrogram(data_link, color_threshold=0.2, truncate_mode='lastp')\n",
    "\n",
    "end = datetime.now()\n",
    "print( \"{} seconds needed\".format((end - start).seconds))\n",
    "'''"
   ]
  },
  {
   "cell_type": "code",
   "execution_count": null,
   "metadata": {},
   "outputs": [],
   "source": [
    "'''\n",
    "start = datetime.now()\n",
    "\n",
    "data_dist = pdist(X, metric='euclidean')\n",
    "data_link = linkage(data_dist, method='average', metric='euclidean')\n",
    "res = dendrogram(data_link, color_threshold=0.4, truncate_mode='lastp')\n",
    "\n",
    "end = datetime.now()\n",
    "print( \"{} seconds needed\".format((end - start).seconds))\n",
    "'''"
   ]
  }
 ],
 "metadata": {
  "anaconda-cloud": {},
  "kernelspec": {
   "display_name": "Python 3",
   "language": "python",
   "name": "python3"
  },
  "language_info": {
   "codemirror_mode": {
    "name": "ipython",
    "version": 3
   },
   "file_extension": ".py",
   "mimetype": "text/x-python",
   "name": "python",
   "nbconvert_exporter": "python",
   "pygments_lexer": "ipython3",
   "version": "3.7.3"
  }
 },
 "nbformat": 4,
 "nbformat_minor": 2
}
